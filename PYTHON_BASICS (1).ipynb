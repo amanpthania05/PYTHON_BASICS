{
  "nbformat": 4,
  "nbformat_minor": 0,
  "metadata": {
    "colab": {
      "provenance": []
    },
    "kernelspec": {
      "name": "python3",
      "display_name": "Python 3"
    },
    "language_info": {
      "name": "python"
    }
  },
  "cells": [
    {
      "cell_type": "markdown",
      "source": [
        "# **1. CHECK FOR PRIME NUMBERS**"
      ],
      "metadata": {
        "id": "UT-hSPzRW64C"
      }
    },
    {
      "cell_type": "code",
      "execution_count": 36,
      "metadata": {
        "colab": {
          "base_uri": "https://localhost:8080/"
        },
        "id": "s0hUMvpC80Pr",
        "outputId": "6c4085a0-b46e-489a-b521-c546313f4f3a"
      },
      "outputs": [
        {
          "output_type": "stream",
          "name": "stdout",
          "text": [
            "enter your number: 3\n",
            "This is prime\n"
          ]
        }
      ],
      "source": [
        "n = int(input('enter your number: '))\n",
        "for i in range(2,n):\n",
        "  if n%i == 0:\n",
        "    print('Yes,THIS IS  NOT PRIME NUMBER')\n",
        "    break\n",
        "else:\n",
        "  print('This is prime')"
      ]
    },
    {
      "cell_type": "markdown",
      "source": [
        "# **2. PRODUCT OF TWO RANDOM NUMBER AND CHECK FOR RIGHT OR WRONG**"
      ],
      "metadata": {
        "id": "08UAnu3fWhl-"
      }
    },
    {
      "cell_type": "code",
      "source": [
        "import numpy as np\n",
        "random_number1 = np.random.randint(1, 10)\n",
        "random_number2 = np.random.randint(1, 10)\n",
        "print(f'random_number1: {random_number1}')\n",
        "print(f'random_number2: {random_number2}')\n",
        "correct_product=random_number1*random_number2\n",
        "user_input = input(f\"What is the product of {random_number1} and {random_number2} ? = \")\n",
        "user_product = int(user_input)\n",
        "if user_product==correct_product:\n",
        "  print('CORRECT ANSWER')\n",
        "else:\n",
        "  print('Wrong Answer')\n"
      ],
      "metadata": {
        "colab": {
          "base_uri": "https://localhost:8080/"
        },
        "id": "QxNLEoiz-jBK",
        "outputId": "28f64c79-75ad-4812-fd5d-bf2b07023981"
      },
      "execution_count": 10,
      "outputs": [
        {
          "output_type": "stream",
          "name": "stdout",
          "text": [
            "random_number1: 1\n",
            "random_number2: 1\n",
            "What is the product of 1 and 1 ? = 1\n",
            "CORRECT ANSWER\n"
          ]
        }
      ]
    },
    {
      "cell_type": "markdown",
      "source": [
        "# **3. PRINTING SQUARE OF EVEN NUMBERS**"
      ],
      "metadata": {
        "id": "LZCXCW_4WV5p"
      }
    },
    {
      "cell_type": "code",
      "source": [
        "num = list(range(100,201))    # AS WE HAVE ASKED TO TAKE THE RANGE BETWEEN 100 AND 200\n",
        "for i in num:                 # WE HAVE TO ITERATE ALL THE NUMBERS BETWEEN 100 AND 200\n",
        "  if i%2 == 0:                # EVEN NUMBER ARE THOSE WHICH IS DIVISIBLE BY 2 AND REMAINDER ALWAYS BE 0\n",
        "    print(i,'The square is', i*i)   # HERE, WE PRINT THE EVEN NUMBER AND THE SQUARE OF EVEN NUMBER\n",
        "  if i%2 != 0:                      # HERE, WE PRINT ODD NUMNERS MEAN WHICH IS NOT DIVISIBLE BY 2\n",
        "    print(i, 'This is odd number')  # THEN WE PRINT THE ODD NUMBER WITH MESSAGE"
      ],
      "metadata": {
        "colab": {
          "base_uri": "https://localhost:8080/"
        },
        "collapsed": true,
        "id": "0gzmOrI0PCE7",
        "outputId": "cc26e382-8c20-4dfd-806d-ff36b9ee88e2"
      },
      "execution_count": 8,
      "outputs": [
        {
          "output_type": "stream",
          "name": "stdout",
          "text": [
            "100 The square is 10000\n",
            "101 This is odd number\n",
            "102 The square is 10404\n",
            "103 This is odd number\n",
            "104 The square is 10816\n",
            "105 This is odd number\n",
            "106 The square is 11236\n",
            "107 This is odd number\n",
            "108 The square is 11664\n",
            "109 This is odd number\n",
            "110 The square is 12100\n",
            "111 This is odd number\n",
            "112 The square is 12544\n",
            "113 This is odd number\n",
            "114 The square is 12996\n",
            "115 This is odd number\n",
            "116 The square is 13456\n",
            "117 This is odd number\n",
            "118 The square is 13924\n",
            "119 This is odd number\n",
            "120 The square is 14400\n",
            "121 This is odd number\n",
            "122 The square is 14884\n",
            "123 This is odd number\n",
            "124 The square is 15376\n",
            "125 This is odd number\n",
            "126 The square is 15876\n",
            "127 This is odd number\n",
            "128 The square is 16384\n",
            "129 This is odd number\n",
            "130 The square is 16900\n",
            "131 This is odd number\n",
            "132 The square is 17424\n",
            "133 This is odd number\n",
            "134 The square is 17956\n",
            "135 This is odd number\n",
            "136 The square is 18496\n",
            "137 This is odd number\n",
            "138 The square is 19044\n",
            "139 This is odd number\n",
            "140 The square is 19600\n",
            "141 This is odd number\n",
            "142 The square is 20164\n",
            "143 This is odd number\n",
            "144 The square is 20736\n",
            "145 This is odd number\n",
            "146 The square is 21316\n",
            "147 This is odd number\n",
            "148 The square is 21904\n",
            "149 This is odd number\n",
            "150 The square is 22500\n",
            "151 This is odd number\n",
            "152 The square is 23104\n",
            "153 This is odd number\n",
            "154 The square is 23716\n",
            "155 This is odd number\n",
            "156 The square is 24336\n",
            "157 This is odd number\n",
            "158 The square is 24964\n",
            "159 This is odd number\n",
            "160 The square is 25600\n",
            "161 This is odd number\n",
            "162 The square is 26244\n",
            "163 This is odd number\n",
            "164 The square is 26896\n",
            "165 This is odd number\n",
            "166 The square is 27556\n",
            "167 This is odd number\n",
            "168 The square is 28224\n",
            "169 This is odd number\n",
            "170 The square is 28900\n",
            "171 This is odd number\n",
            "172 The square is 29584\n",
            "173 This is odd number\n",
            "174 The square is 30276\n",
            "175 This is odd number\n",
            "176 The square is 30976\n",
            "177 This is odd number\n",
            "178 The square is 31684\n",
            "179 This is odd number\n",
            "180 The square is 32400\n",
            "181 This is odd number\n",
            "182 The square is 33124\n",
            "183 This is odd number\n",
            "184 The square is 33856\n",
            "185 This is odd number\n",
            "186 The square is 34596\n",
            "187 This is odd number\n",
            "188 The square is 35344\n",
            "189 This is odd number\n",
            "190 The square is 36100\n",
            "191 This is odd number\n",
            "192 The square is 36864\n",
            "193 This is odd number\n",
            "194 The square is 37636\n",
            "195 This is odd number\n",
            "196 The square is 38416\n",
            "197 This is odd number\n",
            "198 The square is 39204\n",
            "199 This is odd number\n",
            "200 The square is 40000\n"
          ]
        }
      ]
    },
    {
      "cell_type": "markdown",
      "source": [
        "# **4. WORD COUNTER**"
      ],
      "metadata": {
        "id": "R6naEYg2b1GS"
      }
    },
    {
      "cell_type": "code",
      "source": [
        "def word_count(str):                       #define a function called word\n",
        "  counts = dict()                    #dict to store string\n",
        "  words = str.split()                #split the input string into list of word using spaces\n",
        "  for word in words:                    #iterate each word in words\n",
        "    if word in counts:                #check if word is already in count\n",
        "     counts[word] += 1                #if already in count then increment words by 1\n",
        "    else:\n",
        "     counts[word] = 1                 #if word is not in dictionary then add by frequency of 1\n",
        "  return counts\n",
        "print( word_count('BEST CODING LANGUAGE IS THE PYTHON LANGUAGE'))"
      ],
      "metadata": {
        "colab": {
          "base_uri": "https://localhost:8080/"
        },
        "collapsed": true,
        "id": "SGLZcxatWTEa",
        "outputId": "fc797126-4d58-4871-8421-877cb29683a1"
      },
      "execution_count": 13,
      "outputs": [
        {
          "output_type": "stream",
          "name": "stdout",
          "text": [
            "{'BEST': 1, 'CODING': 1, 'LANGUAGE': 2, 'IS': 1, 'THE': 1, 'PYTHON': 1}\n"
          ]
        }
      ]
    },
    {
      "cell_type": "markdown",
      "source": [
        "# **5. PALINDROME**"
      ],
      "metadata": {
        "id": "UgoWZULxh6oL"
      }
    },
    {
      "cell_type": "code",
      "source": [
        "a = input('Enter string here: ')\n",
        "rev = a[::-1]                        #USING SLICING METHOD\n",
        "if a==rev:\n",
        "  print(a, ',IT IS A PALINDROME')\n",
        "else:\n",
        "  print(a, ',NOT PALINDROME')"
      ],
      "metadata": {
        "colab": {
          "base_uri": "https://localhost:8080/"
        },
        "id": "nBydvi_FgRxY",
        "outputId": "4589acb8-259d-460c-a441-0d4b3f733e4d"
      },
      "execution_count": 19,
      "outputs": [
        {
          "output_type": "stream",
          "name": "stdout",
          "text": [
            "Enter string here: RACECAR\n",
            "RACECAR ,IT IS A PALINDROME\n"
          ]
        }
      ]
    }
  ]
}